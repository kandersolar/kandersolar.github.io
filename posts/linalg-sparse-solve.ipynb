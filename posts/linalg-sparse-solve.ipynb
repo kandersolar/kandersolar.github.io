{
 "cells": [
  {
   "cell_type": "markdown",
   "metadata": {},
   "source": [
    "# Speeding up pvfactors\n",
    "\n",
    "This post is an example of identifying bottlenecks in numerical python code and benchmarking possible alternatives.  Specifically, it shows some of the timings I did for the [SunPower/pvfactors#140](https://github.com/SunPower/pvfactors/pull/140) pull request to the pvfactors bifacial PV simulation package.\n",
    "\n",
    "The function of interest is `pvfactors.engine.PVEngine.run_full_mode`, which (as of pvfactors version 1.5.2) doesn't run as fast as I'd like it to run, especially for large simulations (many PV rows and many timestamps)."
   ]
  },
  {
   "cell_type": "markdown",
   "metadata": {},
   "source": [
    "## Identifying the bottlenecks\n",
    "\n",
    "There's a lot going on under the hood in `run_full_mode`, so let's start by using `pyinstrument` to figure out what parts of the code are taking up the most time."
   ]
  },
  {
   "cell_type": "code",
   "execution_count": 1,
   "metadata": {},
   "outputs": [],
   "source": [
    "import warnings\n",
    "warnings.filterwarnings('ignore', message='Setting custom attributes')\n",
    "warnings.filterwarnings('ignore', message='invalid value')\n",
    "warnings.filterwarnings('ignore', message='divide by zero')"
   ]
  },
  {
   "cell_type": "code",
   "execution_count": 2,
   "metadata": {},
   "outputs": [],
   "source": [
    "import pandas as pd\n",
    "import numpy as np\n",
    "from scipy.sparse import csc_matrix, csr_matrix\n",
    "import scipy\n",
    "import matplotlib.pyplot as plt\n",
    "import time\n",
    "\n",
    "import pvlib\n",
    "from pvfactors.engine import PVEngine\n",
    "from pvfactors.geometry import OrderedPVArray\n",
    "\n",
    "from pyinstrument import Profiler"
   ]
  },
  {
   "cell_type": "code",
   "execution_count": 3,
   "metadata": {},
   "outputs": [],
   "source": [
    "def make_engine():\n",
    "    times = pd.date_range('2019-06-01 08:00', periods=500, freq='1min', tz='Etc/GMT+5')\n",
    "    location = pvlib.location.Location(40, -80)\n",
    "    solpos = location.get_solarposition(times)\n",
    "    irrad = location.get_clearsky(times)\n",
    "    dniet = pvlib.irradiance.get_extra_radiation(times)\n",
    "    sat = pvlib.tracking.singleaxis(solpos.zenith, solpos.azimuth, gcr=0.5, backtrack=True)\n",
    "    axis_azimuth = 180\n",
    "    n_pvrows = 11\n",
    "\n",
    "    index_observed_pvrow = n_pvrows//2\n",
    "\n",
    "    fit_kwargs = dict(solar_zenith=solpos.zenith, solar_azimuth=solpos.azimuth,\n",
    "                      surface_tilt=sat.surface_tilt, surface_azimuth=sat.surface_azimuth,\n",
    "                      timestamps=times, DNI=irrad.dni, DHI=irrad.dhi, albedo=0.2)\n",
    "\n",
    "    pvarray_parameters = {\n",
    "        'n_pvrows': n_pvrows,\n",
    "        'axis_azimuth': 180,\n",
    "        'pvrow_height': 3,\n",
    "        'pvrow_width': 4,\n",
    "        'gcr': 0.5\n",
    "    }\n",
    "\n",
    "    pvarray = OrderedPVArray.init_from_dict(pvarray_parameters)\n",
    "    eng = PVEngine(pvarray)\n",
    "    eng.fit(**fit_kwargs)\n",
    "    return eng"
   ]
  },
  {
   "cell_type": "code",
   "execution_count": 4,
   "metadata": {},
   "outputs": [
    {
     "name": "stdout",
     "output_type": "stream",
     "text": [
      "\n",
      "  _     ._   __/__   _ _  _  _ _/_   Recorded: 11:36:25  Samples:  3674\n",
      " /_//_/// /_\\ / //_// / //_'/ //     Duration: 7.835     CPU time: 16.020\n",
      "/   _/                      v4.1.1\n",
      "\n",
      "Program: /home/kevin/anaconda3/lib/python3.7/site-packages/ipykernel_launcher.py -f /home/kevin/.local/share/jupyter/runtime/kernel-2a6aef99-d520-43ed-8223-742e139e8e85.json\n",
      "\n",
      "7.835 run_code  IPython/core/interactiveshell.py:3288\n",
      "└─ 7.835 <module>  <ipython-input-4-07b716f7020c>:5\n",
      "   └─ 7.830 run_full_mode  pvfactors/engine.py:177\n",
      "      ├─ 3.330 build_ts_vf_matrix  pvfactors/viewfactors/calculator.py:69\n",
      "      │  └─ 3.281 vf_pvrow_gnd_surf  pvfactors/viewfactors/vfmethods.py:14\n",
      "      │     ├─ 2.939 vf_pvrow_surf_to_gnd_surf_obstruction_hottel  pvfactors/viewfactors/vfmethods.py:105\n",
      "      │     │  ├─ 2.400 _vf_hottel_gnd_surf  pvfactors/viewfactors/vfmethods.py:473\n",
      "      │     │  │  ├─ 2.286 _hottel_string_length  pvfactors/viewfactors/vfmethods.py:537\n",
      "      │     │  │  │  ├─ 1.242 _angle_with_x_axis  pvfactors/viewfactors/vfmethods.py:631\n",
      "      │     │  │  │  ├─ 0.792 _distance  pvfactors/viewfactors/vfmethods.py:613\n",
      "      │     │  │  │  ├─ 0.136 [self]  \n",
      "      │     │  │  │  └─ 0.116 where  <__array_function__ internals>:2\n",
      "      │     │  │  │     └─ 0.089 implement_array_function  <built-in>:0\n",
      "      │     │  │  └─ 0.081 [self]  \n",
      "      │     │  ├─ 0.170 [self]  \n",
      "      │     │  ├─ 0.080 lowest_point  pvfactors/geometry/timeseries.py:240\n",
      "      │     │  └─ 0.079 lowest_point  pvfactors/geometry/timeseries.py:329\n",
      "      │     └─ 0.284 is_empty  pvfactors/geometry/timeseries.py:252\n",
      "      │        ├─ 0.179 nansum  <__array_function__ internals>:2\n",
      "      │        │  └─ 0.164 nansum  numpy/lib/nanfunctions.py:557\n",
      "      │        │     └─ 0.091 _replace_nan  numpy/lib/nanfunctions.py:68\n",
      "      │        └─ 0.085 length  pvfactors/geometry/timeseries.py:230\n",
      "      │           └─ 0.082 length  pvfactors/geometry/timeseries.py:302\n",
      "      ├─ 2.717 inv  <__array_function__ internals>:2\n",
      "      │  └─ 2.717 inv  numpy/linalg/linalg.py:476\n",
      "      ├─ 0.568 build_ts_vf_aoi_matrix  pvfactors/viewfactors/calculator.py:116\n",
      "      ├─ 0.508 [self]  \n",
      "      ├─ 0.234 einsum  <__array_function__ internals>:2\n",
      "      │  └─ 0.234 einsum  numpy/core/einsumfunc.py:997\n",
      "      │     └─ 0.234 c_einsum  <built-in>:0\n",
      "      ├─ 0.198 get_full_ts_modeling_vectors  pvfactors/irradiance/models.py:785\n",
      "      │  └─ 0.185 get_ts_modeling_vectors  pvfactors/irradiance/base.py:49\n",
      "      │     └─ 0.129 __iadd__  pandas/core/generic.py:11330\n",
      "      │        └─ 0.128 _inplace_method  pandas/core/generic.py:11304\n",
      "      │           └─ 0.121 new_method  pandas/core/ops/common.py:50\n",
      "      │              └─ 0.114 __add__  pandas/core/arraylike.py:87\n",
      "      │                 └─ 0.114 _arith_method  pandas/core/series.py:4992\n",
      "      ├─ 0.191 get_summed_components  pvfactors/irradiance/base.py:94\n",
      "      │  └─ 0.131 __iadd__  pandas/core/generic.py:11330\n",
      "      │     └─ 0.129 _inplace_method  pandas/core/generic.py:11304\n",
      "      │        └─ 0.120 new_method  pandas/core/ops/common.py:50\n",
      "      │           └─ 0.115 __add__  pandas/core/arraylike.py:87\n",
      "      │              └─ 0.115 _arith_method  pandas/core/series.py:4992\n",
      "      └─ 0.084 tile  <__array_function__ internals>:2\n",
      "         └─ 0.084 tile  numpy/lib/shape_base.py:1171\n",
      "            └─ 0.084 ndarray.repeat  <built-in>:0\n",
      "\n",
      "\n"
     ]
    }
   ],
   "source": [
    "engine = make_engine()\n",
    "\n",
    "profiler = Profiler()\n",
    "profiler.start()\n",
    "engine.run_full_mode()\n",
    "profiler.stop()\n",
    "profiler.print(show_all=True)"
   ]
  },
  {
   "cell_type": "markdown",
   "metadata": {},
   "source": [
    "So right off the bat, we know that the `vf_pvrow_gnd_surf`, `inv`, and `build_ts_vf_aoi_matrix` steps are the main culprits.  I plan to look at speeding up the two viewfactor calculations as well, but for today we'll just focus on `inv`."
   ]
  },
  {
   "cell_type": "markdown",
   "metadata": {},
   "source": [
    "## Benchmarking Alternatives\n",
    "\n",
    "Despite being mathematically convenient, using explicit matrix inversion to solve a linear system is notoriously inefficient.  If you were to solve a linear system by hand, you wouldn't invert the matrix, you'd probably do something like [Gaussian elimination](https://en.wikipedia.org/wiki/Gaussian_elimination).  Humans and computers are obviously apples and oranges, but in this case it turns out to not be a bad analogy: [LU decomposition](https://en.wikipedia.org/wiki/LU_decomposition) with substitution is not so different from Gaussian elimination and is a common numerical approach to solving linear systems.  Indeed [DGESV](http://www.netlib.org/lapack/explore-html/d7/d3b/group__double_g_esolve_ga5ee879032a8365897c3ba91e3dc8d512.html) (**D**ouble-precision **Ge**neral matrix **S**ol**V**e, the LAPACK routine `np.linalg.solve` calls under the hood, for double-precision floats anyway) uses LU decomposition.  So switching from explicit inversion to a decomposition-based solver may be a tasty low-hanging fruit.\n",
    "\n",
    "Another thing I noticed is that, especially for large simulations, the system being solved tends to be quite [sparse](https://en.wikipedia.org/wiki/Sparse_matrix) (often >90% zeros).  In that case using a dense solver like `DGESV` is silly and a sparse solver may be an improvement.  Scipy has some sparse solvers, but as of this writing they are 2-D only, so an irksome in-python iteration over the third dimension is necessary here.  In the future hopefully they will be made N-D ([ref](https://docs.scipy.org/doc/scipy/reference/sparse.html#module-scipy.sparse)).  A complication is that scipy provides several sparse matrix formats; it's not obvious to me which one will perform best here, so we'll try a couple.  It's also worth pointing out that non-scipy sparse solvers exist, e.g. [sparse](https://sparse.pydata.org/en/stable/), but I've not investigated them here.\n",
    "\n",
    "For fun, the below code also tries out a sparse explicit inversion."
   ]
  },
  {
   "cell_type": "code",
   "execution_count": 5,
   "metadata": {},
   "outputs": [],
   "source": [
    "def inv_einsum(a_mat, irradiance_mat):\n",
    "    # the approach used in pvfactors 1.5.2\n",
    "    inv_a_mat = np.linalg.inv(a_mat)\n",
    "    q0 = np.einsum('ijk,ki->ji', inv_a_mat, irradiance_mat)\n",
    "    return q0\n",
    "\n",
    "def solve(a_mat, irradiance_mat):\n",
    "    # using LAPACK's (actually, OpenBLAS in this case) DGESV routine\n",
    "    q0 = np.linalg.solve(a_mat, irradiance_mat.T).T\n",
    "    return q0\n",
    "\n",
    "# helper functions to make it easy to try the same approach w/ different sparse matrix classes\n",
    "\n",
    "def make_scipy_sparse_inv(sparse_matrix_class):\n",
    "    # sparse inv + einsum\n",
    "    def inv_einsum(a_mat, irradiance_mat):\n",
    "        inv_as = []\n",
    "        for a_mat_2d in a_mat:\n",
    "            a_sparse = sparse_matrix_class(a_mat_2d)\n",
    "            inv_a = scipy.sparse.linalg.inv(a_sparse).toarray()\n",
    "            inv_as.append(inv_a)\n",
    "        inv_a_mat = np.stack(inv_as)\n",
    "        q0 = np.einsum('ijk,ki->ji', inv_a_mat, irradiance_mat)\n",
    "        return q0\n",
    "    \n",
    "    inv_einsum.__name__ = \"sparse_inv_einsum_\" + sparse_matrix_class.__name__\n",
    "    return inv_einsum\n",
    "\n",
    "def make_sparse_solver(sparse_matrix_class):\n",
    "    # sparse linear solve\n",
    "    def spsolve(a_mat, irradiance_mat):\n",
    "        q0s = []\n",
    "        for a_mat_2d, irradiance_1d in zip(a_mat, irradiance_mat.T):\n",
    "            a_sparse = sparse_matrix_class(a_mat_2d)\n",
    "            irradiance_sparse = sparse_matrix_class(irradiance_1d).T\n",
    "            q0 = scipy.sparse.linalg.spsolve(a_sparse, irradiance_sparse)\n",
    "            q0s.append(q0)\n",
    "        q0 = np.stack(q0s).T\n",
    "        return q0\n",
    "\n",
    "    spsolve.__name__ = \"spsolve_\" + sparse_matrix_class.__name__\n",
    "    return spsolve\n",
    "\n",
    "scipy_csc_matrix_inv = make_scipy_sparse_inv(csc_matrix)\n",
    "scipy_csr_matrix_inv = make_scipy_sparse_inv(csr_matrix)\n",
    "scipy_csc_matrix_spsolve = make_sparse_solver(csc_matrix)\n",
    "scipy_csr_matrix_spsolve = make_sparse_solver(csr_matrix)\n",
    "\n",
    "functions = [inv_einsum, solve,\n",
    "             scipy_csc_matrix_inv, scipy_csr_matrix_inv,\n",
    "             scipy_csc_matrix_spsolve, scipy_csr_matrix_spsolve]"
   ]
  },
  {
   "cell_type": "markdown",
   "metadata": {},
   "source": [
    "Normally I'd just make up some dummy data for testing purposes, but since in this case we're trying to tailor the code to match the specific sparseness characteristics of real pvfactors simulations, I've dumped a system from a real simulation to disk to use here."
   ]
  },
  {
   "cell_type": "code",
   "execution_count": 6,
   "metadata": {},
   "outputs": [
    {
     "name": "stdout",
     "output_type": "stream",
     "text": [
      "(500, 321, 321) (321, 500)\n",
      "0.9773401073359148 0.44277258566978195\n"
     ]
    }
   ],
   "source": [
    "import pickle\n",
    "\n",
    "# matrices extracted from a simulation with n_pvrows=11 and 500 timestamps\n",
    "with open('a_mat', 'rb') as f:\n",
    "    a_mat = pickle.load(f)\n",
    "with open('irradiance_mat', 'rb') as f:\n",
    "    irradiance_mat = pickle.load(f)\n",
    "    irradiance_mat[np.isnan(irradiance_mat)] = 0\n",
    "\n",
    "print(a_mat.shape, irradiance_mat.shape)\n",
    "# show sparseness:\n",
    "print(np.mean(a_mat==0), np.mean(irradiance_mat==0))"
   ]
  },
  {
   "cell_type": "markdown",
   "metadata": {},
   "source": [
    "First things first, let's make sure the alternatives give the right answer:"
   ]
  },
  {
   "cell_type": "code",
   "execution_count": 7,
   "metadata": {},
   "outputs": [
    {
     "name": "stdout",
     "output_type": "stream",
     "text": [
      "inv_einsum\n",
      "CPU times: user 8.57 s, sys: 2.26 s, total: 10.8 s\n",
      "Wall time: 2.75 s\n",
      "\n",
      "solve\n",
      "CPU times: user 2.5 s, sys: 1.67 s, total: 4.17 s\n",
      "Wall time: 1.07 s\n",
      "\n",
      "sparse_inv_einsum_csc_matrix\n",
      "CPU times: user 47.7 s, sys: 331 ms, total: 48.1 s\n",
      "Wall time: 47.8 s\n",
      "\n",
      "sparse_inv_einsum_csr_matrix\n"
     ]
    },
    {
     "name": "stderr",
     "output_type": "stream",
     "text": [
      "/home/kevin/anaconda3/lib/python3.7/site-packages/scipy/sparse/linalg/dsolve/linsolve.py:318: SparseEfficiencyWarning: splu requires CSC matrix format\n",
      "  warn('splu requires CSC matrix format', SparseEfficiencyWarning)\n",
      "/home/kevin/anaconda3/lib/python3.7/site-packages/scipy/sparse/linalg/dsolve/linsolve.py:216: SparseEfficiencyWarning: spsolve is more efficient when sparse b is in the CSC matrix format\n",
      "  'is in the CSC matrix format', SparseEfficiencyWarning)\n"
     ]
    },
    {
     "name": "stdout",
     "output_type": "stream",
     "text": [
      "CPU times: user 47.8 s, sys: 20.9 ms, total: 47.8 s\n",
      "Wall time: 47.8 s\n",
      "\n",
      "spsolve_csc_matrix\n",
      "CPU times: user 1.02 s, sys: 11.8 ms, total: 1.03 s\n",
      "Wall time: 1.03 s\n",
      "\n",
      "spsolve_csr_matrix\n",
      "CPU times: user 1.17 s, sys: 143 µs, total: 1.17 s\n",
      "Wall time: 1.17 s\n",
      "\n"
     ]
    },
    {
     "data": {
      "text/html": [
       "<div>\n",
       "<style scoped>\n",
       "    .dataframe tbody tr th:only-of-type {\n",
       "        vertical-align: middle;\n",
       "    }\n",
       "\n",
       "    .dataframe tbody tr th {\n",
       "        vertical-align: top;\n",
       "    }\n",
       "\n",
       "    .dataframe thead th {\n",
       "        text-align: right;\n",
       "    }\n",
       "</style>\n",
       "<table border=\"1\" class=\"dataframe\">\n",
       "  <thead>\n",
       "    <tr style=\"text-align: right;\">\n",
       "      <th></th>\n",
       "      <th>function</th>\n",
       "      <th>max abs error</th>\n",
       "      <th>nan equal</th>\n",
       "    </tr>\n",
       "  </thead>\n",
       "  <tbody>\n",
       "    <tr>\n",
       "      <th>0</th>\n",
       "      <td>inv_einsum</td>\n",
       "      <td>0.000000e+00</td>\n",
       "      <td>True</td>\n",
       "    </tr>\n",
       "    <tr>\n",
       "      <th>1</th>\n",
       "      <td>solve</td>\n",
       "      <td>8.526513e-14</td>\n",
       "      <td>True</td>\n",
       "    </tr>\n",
       "    <tr>\n",
       "      <th>2</th>\n",
       "      <td>sparse_inv_einsum_csc_matrix</td>\n",
       "      <td>1.136868e-13</td>\n",
       "      <td>True</td>\n",
       "    </tr>\n",
       "    <tr>\n",
       "      <th>3</th>\n",
       "      <td>sparse_inv_einsum_csr_matrix</td>\n",
       "      <td>1.136868e-13</td>\n",
       "      <td>True</td>\n",
       "    </tr>\n",
       "    <tr>\n",
       "      <th>4</th>\n",
       "      <td>spsolve_csc_matrix</td>\n",
       "      <td>1.136868e-13</td>\n",
       "      <td>True</td>\n",
       "    </tr>\n",
       "    <tr>\n",
       "      <th>5</th>\n",
       "      <td>spsolve_csr_matrix</td>\n",
       "      <td>1.278977e-13</td>\n",
       "      <td>True</td>\n",
       "    </tr>\n",
       "  </tbody>\n",
       "</table>\n",
       "</div>"
      ],
      "text/plain": [
       "                       function  max abs error  nan equal\n",
       "0                    inv_einsum   0.000000e+00       True\n",
       "1                         solve   8.526513e-14       True\n",
       "2  sparse_inv_einsum_csc_matrix   1.136868e-13       True\n",
       "3  sparse_inv_einsum_csr_matrix   1.136868e-13       True\n",
       "4            spsolve_csc_matrix   1.136868e-13       True\n",
       "5            spsolve_csr_matrix   1.278977e-13       True"
      ]
     },
     "execution_count": 7,
     "metadata": {},
     "output_type": "execute_result"
    }
   ],
   "source": [
    "q0 = inv_einsum(a_mat, irradiance_mat)\n",
    "data = []\n",
    "for function in functions:\n",
    "    print(function.__name__)\n",
    "    %time q0_test = function(a_mat, irradiance_mat)\n",
    "    data.append({\n",
    "        'function': function.__name__,\n",
    "        'max abs error': np.nanmax(np.abs(q0_test - q0)),\n",
    "        'nan equal': np.all(np.isnan(q0) == np.isnan(q0_test))\n",
    "    })\n",
    "    print()\n",
    "pd.DataFrame(data)"
   ]
  },
  {
   "cell_type": "markdown",
   "metadata": {},
   "source": [
    "So they all give the right answer.  But looking at the basic `%time` outputs above, the two sparse inversion functions are very slow, so there's no point in including them in the more rigorous timing comparison below."
   ]
  },
  {
   "cell_type": "code",
   "execution_count": 8,
   "metadata": {},
   "outputs": [],
   "source": [
    "timings = {}\n",
    "# don't include the slow-as-molasses sparse inversion functions\n",
    "for function in [inv_einsum, solve, scipy_csc_matrix_spsolve, scipy_csr_matrix_spsolve]:\n",
    "    funcname = function.__name__\n",
    "    timings[funcname] = []\n",
    "    for _ in range(10):\n",
    "        st = time.perf_counter()\n",
    "        _ = function(a_mat, irradiance_mat)\n",
    "        ed = time.perf_counter()\n",
    "        timings[funcname].append(ed - st)\n"
   ]
  },
  {
   "cell_type": "code",
   "execution_count": 9,
   "metadata": {},
   "outputs": [
    {
     "data": {
      "text/plain": [
       "Text(0, 0.5, 'Elapsed time [s]')"
      ]
     },
     "execution_count": 9,
     "metadata": {},
     "output_type": "execute_result"
    },
    {
     "data": {
      "image/png": "[encoded data removed]",
      "text/plain": [
       "<Figure size 432x288 with 1 Axes>"
      ]
     },
     "metadata": {
      "needs_background": "light"
     },
     "output_type": "display_data"
    }
   ],
   "source": [
    "timings = pd.DataFrame(timings)\n",
    "timings.boxplot(showfliers=False)\n",
    "plt.ylim(bottom=0)\n",
    "plt.ylabel('Elapsed time [s]')"
   ]
  },
  {
   "cell_type": "code",
   "execution_count": 10,
   "metadata": {},
   "outputs": [
    {
     "data": {
      "text/plain": [
       "inv_einsum            2.714173\n",
       "solve                 1.020124\n",
       "spsolve_csc_matrix    1.027375\n",
       "spsolve_csr_matrix    1.157869\n",
       "dtype: float64"
      ]
     },
     "execution_count": 10,
     "metadata": {},
     "output_type": "execute_result"
    }
   ],
   "source": [
    "timings.median()"
   ]
  },
  {
   "cell_type": "code",
   "execution_count": 11,
   "metadata": {},
   "outputs": [
    {
     "data": {
      "text/plain": [
       "inv_einsum            1.000000\n",
       "solve                 0.375851\n",
       "spsolve_csc_matrix    0.378522\n",
       "spsolve_csr_matrix    0.426601\n",
       "dtype: float64"
      ]
     },
     "execution_count": 11,
     "metadata": {},
     "output_type": "execute_result"
    }
   ],
   "source": [
    "timings.median() / timings['inv_einsum'].median()"
   ]
  },
  {
   "cell_type": "code",
   "execution_count": null,
   "metadata": {},
   "outputs": [],
   "source": []
  },
  {
   "cell_type": "markdown",
   "metadata": {},
   "source": [
    "So dense and sparse solvers are indeed significantly faster than explicit inversion (for this problem, on this machine, with these package versions, etc etc).  An interesting note is that dense and sparse solvers perform more or less equally here; on another machine with a newer CPU (and newer scipy version) the sparse solver outperformed the dense solver. "
   ]
  }
 ],
 "metadata": {
  "date": "2022-04-09",
  "kernelspec": {
   "display_name": "Python 3",
   "language": "python",
   "name": "python3"
  },
  "language_info": {
   "codemirror_mode": {
    "name": "ipython",
    "version": 3
   },
   "file_extension": ".py",
   "mimetype": "text/x-python",
   "name": "python",
   "nbconvert_exporter": "python",
   "pygments_lexer": "ipython3",
   "version": "3.7.4"
  },
  "tags": "photovoltaics, python",
  "toc-showtags": false
 },
 "nbformat": 4,
 "nbformat_minor": 5
}
